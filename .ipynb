{
 "cells": [
  {
   "cell_type": "code",
   "execution_count": 64,
   "metadata": {},
   "outputs": [
    {
     "name": "stdout",
     "output_type": "stream",
     "text": [
      "pos list:  44\n",
      "neg list:  28\n",
      "avg pol:  0.09952068965517243\n"
     ]
    }
   ],
   "source": [
    "import pickle\n",
    "import requests\n",
    "from bs4 import BeautifulSoup\n",
    "import nltk\n",
    "from nltk.tokenize import sent_tokenize\n",
    "from nltk.sentiment.vader import SentimentIntensityAnalyzer\n",
    "##nltk.download('punkt')\n",
    "#nltk.download('stopwords')\n",
    "#nltk.download('vader_lexicon')\n",
    "\n",
    "\n",
    "def tf(term,doc):\n",
    "    tokens = doc.lower().split()\n",
    "    return tokens.count(term.lower())\n",
    "    \n",
    "def pullReviews(url):\n",
    "    tempCritReviews=[]\n",
    "    tempAudiReviews=[]\n",
    "    for i in range(3):\n",
    "        r = requests.get(url+'?page='+str(i+1)+'&sort=')\n",
    "        soup = BeautifulSoup(r.text,'html5lib')\n",
    "        divs = soup.findAll('div',{\"class\":\"the_review\"})\n",
    "        for rev in divs:\n",
    "            tempCritReviews.extend(sent_tokenize(rev.text)) ##3 pages of reviews, 20 reviews per page\n",
    "    for i in range(3):\n",
    "        r = requests.get(url+'?page='+str(i+1)+'&type=user')\n",
    "        soup = BeautifulSoup(r.text,'html5lib')\n",
    "        divs = soup.findAll('div',{\"class\":\"user_review\"})\n",
    "        for rev in divs:\n",
    "            tempAudiReviews.extend(sent_tokenize(rev.text)) \n",
    "    return tempCritReviews,tempAudiReviews\n",
    "\n",
    "def vocabCheck(reviews):\n",
    "    words = list()\n",
    "    stopwords = set(nltk.corpus.stopwords.words('english'))\n",
    "    stopwords.add(\"'s\")\n",
    "    stopwords.add(\"n't\")\n",
    "    for i in reviews:\n",
    "        words.extend(map(lambda x: x.lower(),nltk.tokenize.word_tokenize(i)))\n",
    "    for punctuation in \",.'?''`:;’”“`]\"\"['``\": #the last three are unicode characters of weird quotes. (python is unicode aware)\n",
    "        stopwords.add(punctuation) #adds those individual punctuation to the stopwords to be filtered\n",
    "    freqDist = nltk.FreqDist(words)\n",
    "    sorted_terms = sorted(freqDist.items(), key=lambda x: x[1], reverse=True)\n",
    "    tenMostCommon = [word for word in sorted_terms if word[0] not in stopwords][:10]\n",
    "    print(tenMostCommon[9][0])\n",
    "\n",
    "def sentimentCheck(reviews):\n",
    "    analyzer = SentimentIntensityAnalyzer()\n",
    "    avgPolarity=0\n",
    "    positiveReviews=[]\n",
    "    negativeReviews=[]\n",
    "    for review in reviews:\n",
    "        avgPolarity+=analyzer.polarity_scores(review)['compound']\n",
    "        if(analyzer.polarity_scores(review)['pos']>analyzer.polarity_scores(review)['neg']):\n",
    "            positiveReviews.append(review)\n",
    "        elif(analyzer.polarity_scores(review)['pos']<analyzer.polarity_scores(review)['neg']):\n",
    "            negativeReviews.append(review)\n",
    "    avgPolarity=avgPolarity/len(reviews)\n",
    "    print('pos list: ',len(positiveReviews))\n",
    "    print('neg list: ',len(negativeReviews))\n",
    "    print('avg pol: ',avgPolarity)\n",
    "        \n",
    "#criticReviews,audienceReviews = pullReviews('https://www.rottentomatoes.com/m/us_2019/reviews/')\n",
    "#with open('criticReviews.pkl','wb') as f:\n",
    "    #pickle.dump(criticReviews,f)\n",
    "#with open('audienceReviews.pkl','wb') as f:\n",
    "    #pickle.dump(audienceReviews,f)\n",
    "with open('criticReviews.pkl','rb') as f:\n",
    "    criticReviews = pickle.load(f)\n",
    "with open('audienceReviews.pkl','rb') as f:\n",
    "    audienceReviews = pickle.load(f)\n",
    "#vocabCheck(criticReviews)\n",
    "#vocabCheck(audienceReviews)\n",
    "sentimentCheck(criticReviews)"
   ]
  },
  {
   "cell_type": "code",
   "execution_count": null,
   "metadata": {},
   "outputs": [],
   "source": []
  },
  {
   "cell_type": "code",
   "execution_count": null,
   "metadata": {},
   "outputs": [],
   "source": []
  }
 ],
 "metadata": {
  "language_info": {
   "codemirror_mode": {
    "name": "ipython",
    "version": 3
   },
   "file_extension": ".py",
   "mimetype": "text/x-python",
   "name": "python",
   "nbconvert_exporter": "python",
   "pygments_lexer": "ipython3",
   "version": "3.7.1"
  }
 },
 "nbformat": 4,
 "nbformat_minor": 2
}
