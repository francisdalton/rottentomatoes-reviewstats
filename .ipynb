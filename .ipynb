{
 "cells": [
  {
   "cell_type": "code",
   "execution_count": 12,
   "metadata": {},
   "outputs": [
    {
     "name": "stdout",
     "output_type": "stream",
     "text": [
      "[' Peele is slowly emerging as one of the most exciting provocateurs of modern horror films.', '\"Us\" is further proof of that.', \" 'Us' is part horror movie, part social commentary.\", \" Peele is a gifted filmmaker, the ending is satisfyingly chilling and it boasts another brilliant performance by Lupita Nyong'o in a dual role.\", \" It is a testimony to Peele's power as a filmmaker that he weaves this overwhelming idea into an absorbing and even enjoyable film.\", 'He got the genre right: we should be terrified.', \" Us is both enjoyable and slightly disappointing when seeing the clever aspects of Peele's filmmaking draw tantalisingly close together before drifting apart.\", ' \" \\'Us\\' is a move that looks at the forgotten and disenfranchised - literally those who live in the shadows and have no real place in our world.', \" Society's demons acquire physical forms while the horror film returns to embrace that politicization that was present in John Carpenter and George A. Romero' best films.\", '[Full review in Spanish]', \" Peele's latest will hold your attention throughout and I loved the way in which he's infused comedy within the thrills.\", \" Us succeeds, but it's almost as if Peele is trying too hard\", \" Performances in genre pieces are often dismissed and disregarded, but make no mistake: Nyongo's work in Us is some of the very best of her career.\", ' A very significant horror film with a real core, an entertaining story, incredible performances and excellent execution', \" Us' biggest success comes down to its impeccable casting.\", \"With everyone pulling double-duty, it's insane the depth of performance we see ...\", ' proves that Peele is hardly a flash in the pan; his talent is undeniable, as is his dedication to crafting superior horror movies that work beyond the general expectations of the genre', ' Combines masterful visuals with dense storytelling, and a half-dozen instant-classic sequences.', \"And it's scary as hell.\", ' More than just a horror movie, Us represents a multilayered experience that will leave your brain in knots...In short, you simply have to watch Us for yourself.', ' Theories aside, this is a scary, fun, suspenseful thriller with comedic elements and great performances.', 'I can enjoy the movie on surface level without needing some doctorate degree.', ' There are a few questions that I wish were answered within the movie...crazy, though.', ' I loved the story, cinematography, cast, everything about this movie.', \"Jordan Peele, keep doing your own thing, I'm gonna be there every time.\", ' Us is just a good movie.', \"It's freaky, scary, carefully crafted and deeply unsettling.\", ' Us has no clear answers as to how one might fix such inequality.', \"It's a horror movie, and so like many horror movies, it positions the viewers emotionally closer to the victims than those committing acts of violence against them.\", ' Peele has a perfect balance of comedy and horror when it comes to tone, and the cinematography as a whole is spectacular.', 'The acting is also amazing.', ' Where the film packs its punches are in its truly fascinating third act and in your brain afterwards (or in spirited discussion with others).', 'It is, perhaps, more enjoyable to think about than watch.', \" Once you're finished hoping that humor shines through the red blood off the golden scissors, you still have to sit through Us.\", \" Us is a creepy fun film with a creative premise that goes in a direction you won't expect.\", \" Peele proves that he's not going to be content resting on his laurels, and that he's fearless and talented enough to hold a mirror up to our own worst selves - literally, it turns out.\", ' Don\\'t walk, run to the theatre to see \"Us.\"', ' One can appreciate \"Us\" for its ambition in layering a zombie thriller with substance and darker themes.', 'Or, one can ignore the bigger issues and just go along for the roller-coaster descent into a nightmare.', ' [Jordan Peele] has taken a leap forward as a filmmaker... reaching an exemplary maturity.', '[Full review in Spanish]', \" Lupita Nyong'o and Michael Abels' soundtrack [are] extraordinary.\", '[Full review in Spanish]', \" It's the revolt of the have-nots against the haves, a savage assault by the American underclass on a group of masters oblivious to their existence.\", ' This movie proves that if you are not wise, you can be tethered to the darker parts of yourself.', ' As it turns out, to no real big surprise, evil twins are big jerks.', ' A sensational sophomore effort.', 'Whilst that ending may be a source of contention, the rest of Us is simply superb.', ' By pitting doppelgängers against each other, [Peele] depicts our collective internal struggle.', \"By tethering them together [they must] witness their decisions' ramifications.\", \" It's thought-provoking in the best way and succeeds to great lengths and fails with mere missteps.\", \" There's enough thematic material here to power an entire semester of college dissertations, even if Peele is never quite able to integrate the sociopolitical horrors with the cinematic horrors as brilliantly as he did in Get Out.\", \" Not everything clicks in Jordan Peele's latest nightmare, but it's wildly entertaining, funny, thoughtful, well acted and well made.\", ' Us is skillful and strange, opening up subterranean levels in the psyche and letting the creatures within come out to play.', \" There's much to admire about Us.\", \" It's still an enjoyable horror film with decent humour and a great soundtrack.\", \"I would recommend this movie to casual horror fans, but don't see it expecting anything like Get Out.\", \" An extraordinary turn by Nyong'o.\", ' An ambitious misfire, a near miss that gets lost in its atmospheric, beautifully rendered hall of mirrors.', \" Even elements that could become problems in less-sure hands, like the explanatory speeches toward the end, become part of the film's mythos and mystery.\", ' As director, writer, and producer, Peele is in full control here, and he has used his power as a filmmaker to deliver something fresh, scary, and darkly humorous once again.', \" A power-packed performance by Lupita Nyong'o, as both Adelaide and Red, is the soul of the film.\", 'The', \" Whereas Get Out was definitely scary, this is terrifying because it's about the one thing we're all most afraid of - us.\", \" It was just incredible to see [Lupita] play two different versions of herself...The effects were so seamless on that, you don't even notice it.\", \"You don't even realize its the same people interacting with one another.\", \" The most frightening element has less to do with its operatic violence than its stunner suggestion as to who the film's true villains might be.\", \"It's a double delight.\", \" This psychological horror-thriller will haunts you long after it's over.\", ' Jordan Peele returns with this eagerly anticipated follow-up.', \"The superlative entertainment value proves that his first film wasn't a fluke, but Us is definitely much more of a head-scratcher than Get Out.\", \" A movie that plays a winning mind game, even if you're never quite sure of the rules.\", ' If the number one rule in horror is to never show the monster, Peele gleefully breaks it, forcing his characters and his audience us to gaze directly into its face.', 'Perhaps what is most terrifying is the humanity that stares back.', \" Interpreting Peele's silliness doesn't go beyond his trivializing black American deprivation into junk-movie entertainment.\", 'And no intelligent moviegoer should be impressed by his tonier affectations, which are mere sketch comedy.', ' Either viewing it on a surface level or tunnelling deep into its mythos, Us is a richly composed film that succeeds on every level.', 'Even its more contentious elements are still a sign of the victory that Peele exerts over the cinema-goer.', ' Peele seems to lay bare the tremendous anxiety among the members of this family to maintain \"respectability,\" that odious burden so essential to racism\\'s armature.', ' Peele doubles down on his genre love with a flawed but full-bore frightener, ripe for debate.', \"Nyong'o is incendiary.\", \" Peele has remarkable command of his visuals, there are some smart jokes dotted throughout, and the ideas he's exploring - the dangers of moral absolutism, the complacency of comfort, the fear of others - are timely and thought-provoking.\", \" It's part home invasion thriller, part body swap drama, part Ira Levin-esque psychological satire.\", \"Peele's second film is a bolder artistic statement than Get Out, and one of the finest examples of untethered (forgive the pun) studio filmmaking.\", \" The structured anxieties and tampering of normality, gives 'Us' its distinctive realm of descriptive cynicism and shock.\", \"Fittingly, Peele's pet project brings a whole new definition to courting face-to-face double trouble.\", \" The real genius at work in Us is Nyong'o, who anchors the story with underlying rage as well as the protective qualities usually reserved for male leads.\"]\n"
     ]
    }
   ],
   "source": [
    "import pickle\n",
    "import requests\n",
    "from bs4 import BeautifulSoup\n",
    "import nltk\n",
    "from nltk.tokenize import sent_tokenize\n",
    "##nltk.download('punkt')\n",
    "\n",
    "def pullReviews(url):\n",
    "    tempReviews=[]\n",
    "    for i in range(3):\n",
    "        r = requests.get(url+'?page='+str(i+1)+'&sort=')\n",
    "        soup = BeautifulSoup(r.text,'html5lib')\n",
    "        divs = soup.findAll('div',{\"class\":\"the_review\"})\n",
    "        for rev in divs:\n",
    "            tempReviews.extend(sent_tokenize(rev.text)) ##3 pages of reviews, 20 reviews per page\n",
    "    return tempReviews\n",
    "\n",
    "#criticReviews=pullReviews('https://www.rottentomatoes.com/m/us_2019/reviews/')\n",
    "\n",
    "\n",
    "#with open('criticReviews.pkl','wb') as f:\n",
    "    #pickle.dump(criticReviews,f)\n",
    "with open('criticReviews.pkl','rb') as f:\n",
    "    criticReviews = pickle.load(f)\n",
    "print(criticReviews)"
   ]
  },
  {
   "cell_type": "code",
   "execution_count": null,
   "metadata": {},
   "outputs": [],
   "source": []
  },
  {
   "cell_type": "code",
   "execution_count": null,
   "metadata": {},
   "outputs": [],
   "source": []
  }
 ],
 "metadata": {
  "language_info": {
   "codemirror_mode": {
    "name": "ipython",
    "version": 3
   },
   "file_extension": ".py",
   "mimetype": "text/x-python",
   "name": "python",
   "nbconvert_exporter": "python",
   "pygments_lexer": "ipython3",
   "version": "3.7.1"
  }
 },
 "nbformat": 4,
 "nbformat_minor": 2
}
